{
  "nbformat": 4,
  "nbformat_minor": 0,
  "metadata": {
    "colab": {
      "name": "chapter_6",
      "provenance": [],
      "toc_visible": true,
      "authorship_tag": "ABX9TyM8HQxCzqkGbbZRASm7qYrI",
      "include_colab_link": true
    },
    "kernelspec": {
      "name": "python3",
      "display_name": "Python 3"
    },
    "language_info": {
      "name": "python"
    }
  },
  "cells": [
    {
      "cell_type": "markdown",
      "metadata": {
        "id": "view-in-github",
        "colab_type": "text"
      },
      "source": [
        "<a href=\"https://colab.research.google.com/github/PIKAPIKAAAA/chapter_6/blob/main/chapter_6.ipynb\" target=\"_parent\"><img src=\"https://colab.research.google.com/assets/colab-badge.svg\" alt=\"Open In Colab\"/></a>"
      ]
    },
    {
      "cell_type": "markdown",
      "metadata": {
        "id": "IgcyYZqoV3o4"
      },
      "source": [
        "# Chapter_6.1-6.3\n",
        "italicized text\n"
      ]
    },
    {
      "cell_type": "markdown",
      "metadata": {
        "id": "lguY10nMWD3U"
      },
      "source": [
        "6-1. Person: Use a dictionary to store information about a person you know.\n",
        "Store their first name, last name, age, and the city in which they live. You\n",
        "should have keys such as first_name, last_name, age, and city. Print each\n",
        "piece of information stored in your dictionary."
      ]
    },
    {
      "cell_type": "code",
      "metadata": {
        "id": "7oYSvJWoWDiL"
      },
      "source": [
        "person = {\n",
        "  \"first_name\": \"Alina\",\n",
        "  \"last_name\": \"Martinova\",\n",
        "  \"age\": \"17\",\n",
        "  \"city\": \"Tbilisi\"\n",
        "}"
      ],
      "execution_count": null,
      "outputs": []
    },
    {
      "cell_type": "code",
      "metadata": {
        "colab": {
          "base_uri": "https://localhost:8080/"
        },
        "id": "fe6o8DnRXZC7",
        "outputId": "233b8030-ec04-4135-8142-3407409dd7a1"
      },
      "source": [
        "print (person)"
      ],
      "execution_count": null,
      "outputs": [
        {
          "output_type": "stream",
          "name": "stdout",
          "text": [
            "{'first_name': 'Alina', 'last_name': 'Martinova', 'age': '17', 'city': 'Tbilisi'}\n"
          ]
        }
      ]
    },
    {
      "cell_type": "markdown",
      "metadata": {
        "id": "bHk5crp-Xvcf"
      },
      "source": [
        "6-2. Favorite Numbers: Use a dictionary to store people’s favorite numbers.\n",
        "Think of five names, and use them as keys in your dictionary. Think of a favorite\n",
        "number for each person, and store each as a value in your dictionary. Print\n",
        "each person’s name and their favorite number. For even more fun, poll a few\n",
        "friends and get some actual data for your program."
      ]
    },
    {
      "cell_type": "code",
      "metadata": {
        "id": "RjQ6bQ3gXzym"
      },
      "source": [
        "favorite_numbers = {\n",
        "  \"Alina\": \"13\",\n",
        "  \"Dolarichi\": \"1\",\n",
        "  \"Papito\": \"69\",\n",
        "  \"Boobicha\": \"7\",\n",
        "  \"Giosha\": \"4\"\n",
        "}"
      ],
      "execution_count": null,
      "outputs": []
    },
    {
      "cell_type": "code",
      "metadata": {
        "colab": {
          "base_uri": "https://localhost:8080/"
        },
        "id": "gXtRdtdqYgd7",
        "outputId": "1f893405-fb38-48e9-f8db-7a0c216af714"
      },
      "source": [
        "print (favorite_numbers)"
      ],
      "execution_count": null,
      "outputs": [
        {
          "output_type": "stream",
          "name": "stdout",
          "text": [
            "{'Alina': '13', 'Dolarichi': '1', 'Papito': '69', 'Boobicha': '7', 'Giosha': '4'}\n"
          ]
        }
      ]
    },
    {
      "cell_type": "markdown",
      "metadata": {
        "id": "9kiIqdikYqAB"
      },
      "source": [
        "6-3. Glossary: A Python dictionary can be used to model an actual dictionary.\n",
        "However, to avoid confusion, let’s call it a glossary.\n",
        "• Think of five programming words you’ve learned about in the previous\n",
        "chapters. Use these words as the keys in your glossary, and store their\n",
        "meanings as values.\n",
        "• Print each word and its meaning as neatly formatted output. You might\n",
        "print the word followed by a colon and then its meaning, or print the word\n",
        "on one line and then print its meaning indented on a second line. Use the\n",
        "newline character (\\n) to insert a blank line between each word-meaning\n",
        "pair in your output."
      ]
    },
    {
      "cell_type": "code",
      "metadata": {
        "id": "eJZ3JQg3YuP8"
      },
      "source": [
        "python_glossary = {\n",
        "    \"Python_Comments\": \"Comments can be used to explain Python code.\",\n",
        "    \"Python Strings\": \"Strings in python are surrounded by either single quotation marks, or double quotation marks.\",\n",
        "    \"Python Dictionaries\": \"Dictionaries are used to store data values in key:value pairs.\",\n",
        "    \"Python For Loops\": \"A for loop is used for iterating over a sequence (that is either a list, a tuple, a dictionary, a set, or a string).\",\n",
        "    \"Python Booleans\": \"In programming you often need to know if an expression is True or False.\"\n",
        "}"
      ],
      "execution_count": null,
      "outputs": []
    },
    {
      "cell_type": "code",
      "metadata": {
        "colab": {
          "base_uri": "https://localhost:8080/"
        },
        "id": "uqtHkaOCbU2S",
        "outputId": "9ba6b345-a862-4908-cc1f-994679f30dc3"
      },
      "source": [
        "print (python_glossary)"
      ],
      "execution_count": null,
      "outputs": [
        {
          "output_type": "stream",
          "name": "stdout",
          "text": [
            "{'Python_Comments': 'Comments can be used to explain Python code.', 'Python Strings': 'Strings in python are surrounded by either single quotation marks, or double quotation marks.', 'Python Dictionaries': 'Dictionaries are used to store data values in key:value pairs.', 'Python For Loops': 'A for loop is used for iterating over a sequence (that is either a list, a tuple, a dictionary, a set, or a string).', 'Python Booleans': 'In programming you often need to know if an expression is True or False.'}\n"
          ]
        }
      ]
    },
    {
      "cell_type": "markdown",
      "metadata": {
        "id": "oEWSasXQc-IH"
      },
      "source": [
        "# chapter_6.4-6.6"
      ]
    },
    {
      "cell_type": "markdown",
      "metadata": {
        "id": "MkH_b8DmdN89"
      },
      "source": [
        "6-4. Glossary 2: Now that you know how to loop through a dictionary, clean\n",
        "up the code from Exercise 6-3 (page 102) by replacing your series of print\n",
        "statements with a loop that runs through the dictionary’s keys and values.\n",
        "When you’re sure that your loop works, add five more Python terms to your\n",
        "glossary. When you run your program again, these new words and meanings\n",
        "should automatically be included in the output."
      ]
    },
    {
      "cell_type": "code",
      "metadata": {
        "id": "itinrLIvdUuu"
      },
      "source": [
        "python_glossary = {\n",
        "    \"Python_Comments\": \"Comments can be used to explain Python code.\",\n",
        "    \"Python Strings\": \"Strings in python are surrounded by either single quotation marks or double quotation marks.\",\n",
        "    \"Python Dictionaries\": \"Dictionaries are used to store data values in key:value pairs.\",\n",
        "    \"Python For Loops\": \"A for loop is used for iterating over a sequence (that is either a list, a tuple, a dictionary, a set, or a string).\",\n",
        "    \"Python Booleans\": \"In programming you often need to know if an expression is True or False.\"\n",
        "}"
      ],
      "execution_count": null,
      "outputs": []
    },
    {
      "cell_type": "code",
      "metadata": {
        "colab": {
          "base_uri": "https://localhost:8080/"
        },
        "id": "Rst4yNbhgZX3",
        "outputId": "e97e339e-01dc-4d7e-9e88-184113969743"
      },
      "source": [
        "print(\"The following glossaries have been mentioned:\")\n",
        "for glossary in (python_glossary.values()):\n",
        "    print(glossary.title())"
      ],
      "execution_count": null,
      "outputs": [
        {
          "output_type": "stream",
          "name": "stdout",
          "text": [
            "The following glossaries have been mentioned:\n",
            "Comments Can Be Used To Explain Python Code.\n",
            "Strings In Python Are Surrounded By Either Single Quotation Marks Or Double Quotation Marks.\n",
            "Dictionaries Are Used To Store Data Values In Key:Value Pairs.\n",
            "A For Loop Is Used For Iterating Over A Sequence (That Is Either A List, A Tuple, A Dictionary, A Set, Or A String).\n",
            "In Programming You Often Need To Know If An Expression Is True Or False.\n"
          ]
        }
      ]
    },
    {
      "cell_type": "markdown",
      "metadata": {
        "id": "Q0jBcfuYj3w9"
      },
      "source": [
        "6-5. Rivers: Make a dictionary containing three major rivers and the country\n",
        "each river runs through. One key-value pair might be 'nile': 'egypt'.\n",
        "• Use a loop to print a sentence about each river, such as The Nile runs\n",
        "through Egypt.\n",
        "• Use a loop to print the name of each river included in the dictionary.\n",
        "• Use a loop to print the name of each country included in the dictionary."
      ]
    },
    {
      "cell_type": "code",
      "metadata": {
        "id": "XzFDffo6j5R7"
      },
      "source": [
        "country_rivers = {\n",
        "    \"nile\": \"egypt\",\n",
        "    \"Tigris–Euphrates\": \"iraq\",\n",
        "    \"huang and yangtze\": \"china\"\n",
        "}"
      ],
      "execution_count": 1,
      "outputs": []
    },
    {
      "cell_type": "code",
      "metadata": {
        "colab": {
          "base_uri": "https://localhost:8080/"
        },
        "id": "MRILh1yBuml6",
        "outputId": "8a833fd0-5a41-4629-f92d-ebad5e679b51"
      },
      "source": [
        "for river, country in country_rivers.items():\n",
        "  print ('the ' + river + ' runs through ' + country)\n",
        "  print (river)\n",
        "  print (country)"
      ],
      "execution_count": 4,
      "outputs": [
        {
          "output_type": "stream",
          "name": "stdout",
          "text": [
            "the nile runs through egypt\n",
            "nile\n",
            "egypt\n",
            "the Tigris–Euphrates runs through iraq\n",
            "Tigris–Euphrates\n",
            "iraq\n",
            "the huang and yangtze runs through china\n",
            "huang and yangtze\n",
            "china\n"
          ]
        }
      ]
    },
    {
      "cell_type": "markdown",
      "metadata": {
        "id": "u-FAasx2oyc8"
      },
      "source": [
        "6-6. Polling: Use the code in favorite_languages.py (page 104).\n",
        "• Make a list of people who should take the favorite languages poll. Include\n",
        "some names that are already in the dictionary and some that are not.\n",
        "• Loop through the list of people who should take the poll. If they have\n",
        "already taken the poll, print a message thanking them for responding.\n",
        "If they have not yet taken the poll, print a message inviting them to take\n",
        "the poll."
      ]
    },
    {
      "cell_type": "code",
      "metadata": {
        "id": "j1YuXkI4o04d",
        "colab": {
          "base_uri": "https://localhost:8080/"
        },
        "outputId": "59f303d7-30dc-4a9a-a8cd-bd7e7a971e70"
      },
      "source": [
        "favorite_languages = {\n",
        "    'PIKA' : 'c',\n",
        "    'BOOBICHA' : 'python',\n",
        "    'PAPITO' : 'ruby',\n",
        "    'DOLARICHI' : 'c',\n",
        "}\n",
        "\n",
        "for name in favorite_languages.keys():\n",
        "  print(name.title())\n",
        "\n",
        "new_people = {\n",
        "    'GIOSHA' : 'python',\n",
        "    'NARGIZA' : 'c++',\n",
        "    'NIKULI' : 'java',\n",
        "    'KRIGERA' : 'ruby',\n",
        "    'CARBONARA' : 'python',\n",
        "}\n",
        "\n",
        "for name in favorite_languages.keys():\n",
        "  print(name.title() + ', thank you for taking the pole.')\n",
        "\n",
        "for new_person in new_people:\n",
        "    if new_person in favorite_languages:\n",
        "        print(new_person + ', thank you for responding.')\n",
        "    else:\n",
        "      print(new_person + ', we invite you to take poll.')"
      ],
      "execution_count": 5,
      "outputs": [
        {
          "output_type": "stream",
          "name": "stdout",
          "text": [
            "Pika\n",
            "Boobicha\n",
            "Papito\n",
            "Dolarichi\n",
            "Pika, thank you for taking the pole.\n",
            "Boobicha, thank you for taking the pole.\n",
            "Papito, thank you for taking the pole.\n",
            "Dolarichi, thank you for taking the pole.\n",
            "GIOSHA, we invite you to take poll.\n",
            "NARGIZA, we invite you to take poll.\n",
            "NIKULI, we invite you to take poll.\n",
            "KRIGERA, we invite you to take poll.\n",
            "CARBONARA, we invite you to take poll.\n"
          ]
        }
      ]
    },
    {
      "cell_type": "markdown",
      "metadata": {
        "id": "ZTdFNruOF1-c"
      },
      "source": [
        "PETS\n"
      ]
    },
    {
      "cell_type": "code",
      "metadata": {
        "colab": {
          "base_uri": "https://localhost:8080/"
        },
        "id": "4ArGvZoeFXkZ",
        "outputId": "87f13fce-0d53-43a2-895b-9401f6168ddc"
      },
      "source": [
        "pets = {\n",
        "    'MIAW' : {\n",
        "        'animal' : 'cat',\n",
        "        'owner' : 'ALINA',\n",
        "    },\n",
        "\n",
        "    'REX' : {\n",
        "        'animal' : 'dog',\n",
        "        'owner' : 'Tato'\n",
        "    },\n",
        "}\n",
        "\n",
        "print(pets)"
      ],
      "execution_count": 6,
      "outputs": [
        {
          "output_type": "stream",
          "name": "stdout",
          "text": [
            "{'MIAW': {'animal': 'cat', 'owner': 'ALINA'}, 'REX': {'animal': 'dog', 'owner': 'Tato'}}\n"
          ]
        }
      ]
    },
    {
      "cell_type": "markdown",
      "metadata": {
        "id": "1sHMw3m_F913"
      },
      "source": [
        "fav_places\n"
      ]
    },
    {
      "cell_type": "code",
      "metadata": {
        "colab": {
          "base_uri": "https://localhost:8080/"
        },
        "id": "W1AEEHixF7bc",
        "outputId": "a48e1cf8-56eb-4723-8e63-64e36d3e0601"
      },
      "source": [
        "favorite_places = {\n",
        "    'ALINA' : ['Las_Vegas' , 'grand-canyon'],\n",
        "    'PIKA' : ['BERLIN' , 'BASQUE' , 'with friends'],\n",
        "    'DOLARICHI' : ['with PIKA'],\n",
        "}\n",
        "\n",
        "for name, places in favorite_places.items():\n",
        "  print(name + ' : ')\n",
        "  for place in places:\n",
        "    print(' - ' + place)"
      ],
      "execution_count": 7,
      "outputs": [
        {
          "output_type": "stream",
          "name": "stdout",
          "text": [
            "ALINA : \n",
            " - Las_Vegas\n",
            " - grand-canyon\n",
            "PIKA : \n",
            " - BERLIN\n",
            " - BASQUE\n",
            " - with friends\n",
            "DOLARICHI : \n",
            " - with PIKA\n"
          ]
        }
      ]
    },
    {
      "cell_type": "markdown",
      "metadata": {
        "id": "UNDVclmjG6n0"
      },
      "source": [
        "city"
      ]
    },
    {
      "cell_type": "code",
      "metadata": {
        "colab": {
          "base_uri": "https://localhost:8080/"
        },
        "id": "5ellHdjQG8aA",
        "outputId": "074e2a51-04fc-4250-a242-fbd2b8f4dcdd"
      },
      "source": [
        "cities = {\n",
        "    'Berlin' : {\n",
        "        'country' : 'Germany',\n",
        "        'people' : '3.7 million',\n",
        "    },\n",
        "\n",
        "    'New_york' : {\n",
        "        'country' : 'USA',\n",
        "        'people' : '8.8 million',\n",
        "    },\n",
        "\n",
        "    'Prague' : {\n",
        "        'country' : 'czech',\n",
        "        'people' : '1.3 million', \n",
        "    },\n",
        "}\n",
        "\n",
        "print(cities)"
      ],
      "execution_count": 8,
      "outputs": [
        {
          "output_type": "stream",
          "name": "stdout",
          "text": [
            "{'Berlin': {'country': 'Germany', 'people': '3.7 million'}, 'New_york': {'country': 'USA', 'people': '8.8 million'}, 'Prague': {'country': 'czech', 'people': '1.3 million'}}\n"
          ]
        }
      ]
    }
  ]
}